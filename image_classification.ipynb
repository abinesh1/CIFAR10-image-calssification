{
 "cells": [
  {
   "cell_type": "markdown",
   "metadata": {
    "collapsed": true
   },
   "source": [
    "# Image Classification\n",
    "In this project, you'll classify images from the [CIFAR-10 dataset](https://www.cs.toronto.edu/~kriz/cifar.html).  The dataset consists of airplanes, dogs, cats, and other objects. You'll preprocess the images, then train a convolutional neural network on all the samples. The images need to be normalized and the labels need to be one-hot encoded.  You'll get to apply what you learned and build a convolutional, max pooling, dropout, and fully connected layers.  At the end, you'll get to see your neural network's predictions on the sample images.\n",
    "## Get the Data\n",
    "Run the following cell to download the [CIFAR-10 dataset for python](https://www.cs.toronto.edu/~kriz/cifar-10-python.tar.gz)."
   ]
  },
  {
   "cell_type": "code",
   "execution_count": 1,
   "metadata": {},
   "outputs": [
    {
     "name": "stdout",
     "output_type": "stream",
     "text": [
      "All files found!\n"
     ]
    }
   ],
   "source": [
    "\"\"\"\n",
    "DON'T MODIFY ANYTHING IN THIS CELL THAT IS BELOW THIS LINE\n",
    "\"\"\"\n",
    "from urllib.request import urlretrieve\n",
    "from os.path import isfile, isdir\n",
    "from tqdm import tqdm\n",
    "import problem_unittests as tests\n",
    "import tarfile\n",
    "\n",
    "cifar10_dataset_folder_path = 'cifar-10-batches-py'\n",
    "\n",
    "class DLProgress(tqdm):\n",
    "    last_block = 0\n",
    "\n",
    "    def hook(self, block_num=1, block_size=1, total_size=None):\n",
    "        self.total = total_size\n",
    "        self.update((block_num - self.last_block) * block_size)\n",
    "        self.last_block = block_num\n",
    "\n",
    "if not isfile('cifar-10-python.tar.gz'):\n",
    "    with DLProgress(unit='B', unit_scale=True, miniters=1, desc='CIFAR-10 Dataset') as pbar:\n",
    "        urlretrieve(\n",
    "            'https://www.cs.toronto.edu/~kriz/cifar-10-python.tar.gz',\n",
    "            'cifar-10-python.tar.gz',\n",
    "            pbar.hook)\n",
    "\n",
    "if not isdir(cifar10_dataset_folder_path):\n",
    "    with tarfile.open('cifar-10-python.tar.gz') as tar:\n",
    "        tar.extractall()\n",
    "        tar.close()\n",
    "\n",
    "\n",
    "tests.test_folder_path(cifar10_dataset_folder_path)"
   ]
  },
  {
   "cell_type": "markdown",
   "metadata": {},
   "source": [
    "## Explore the Data\n",
    "The dataset is broken into batches to prevent your machine from running out of memory.  The CIFAR-10 dataset consists of 5 batches, named `data_batch_1`, `data_batch_2`, etc.. Each batch contains the labels and images that are one of the following:\n",
    "* airplane\n",
    "* automobile\n",
    "* bird\n",
    "* cat\n",
    "* deer\n",
    "* dog\n",
    "* frog\n",
    "* horse\n",
    "* ship\n",
    "* truck\n",
    "\n",
    "Understanding a dataset is part of making predictions on the data.  Play around with the code cell below by changing the `batch_id` and `sample_id`. The `batch_id` is the id for a batch (1-5). The `sample_id` is the id for a image and label pair in the batch.\n",
    "\n",
    "Ask yourself \"What are all possible labels?\", \"What is the range of values for the image data?\", \"Are the labels in order or random?\".  Answers to questions like these will help you preprocess the data and end up with better predictions."
   ]
  },
  {
   "cell_type": "code",
   "execution_count": 2,
   "metadata": {},
   "outputs": [
    {
     "name": "stdout",
     "output_type": "stream",
     "text": [
      "\n",
      "Stats of batch 3:\n",
      "Samples: 10000\n",
      "Label Counts: {0: 994, 1: 1042, 2: 965, 3: 997, 4: 990, 5: 1029, 6: 978, 7: 1015, 8: 961, 9: 1029}\n",
      "First 20 Labels: [8, 5, 0, 6, 9, 2, 8, 3, 6, 2, 7, 4, 6, 9, 0, 0, 7, 3, 7, 2]\n",
      "\n",
      "Example of Image 7:\n",
      "Image - Min Value: 12 Max Value: 254\n",
      "Image - Shape: (32, 32, 3)\n",
      "Label - Label Id: 3 Name: cat\n"
     ]
    },
    {
     "data": {
      "image/png": "[encoded data removed]",
      "text/plain": [
       "<matplotlib.figure.Figure at 0x224e82b7630>"
      ]
     },
     "metadata": {
      "image/png": {
       "height": 250,
       "width": 253
      }
     },
     "output_type": "display_data"
    }
   ],
   "source": [
    "%matplotlib inline\n",
    "%config InlineBackend.figure_format = 'retina'\n",
    "\n",
    "import helper\n",
    "import numpy as np\n",
    "\n",
    "# Explore the dataset\n",
    "batch_id = 3\n",
    "sample_id = 7\n",
    "helper.display_stats(cifar10_dataset_folder_path, batch_id, sample_id)"
   ]
  },
  {
   "cell_type": "markdown",
   "metadata": {},
   "source": [
    "## Implement Preprocess Functions\n",
    "### Normalize\n",
    "In the cell below, implement the `normalize` function to take in image data, `x`, and return it as a normalized Numpy array. The values should be in the range of 0 to 1, inclusive.  The return object should be the same shape as `x`."
   ]
  },
  {
   "cell_type": "code",
   "execution_count": 3,
   "metadata": {},
   "outputs": [
    {
     "name": "stdout",
     "output_type": "stream",
     "text": [
      "Tests Passed\n"
     ]
    }
   ],
   "source": [
    "def normalize(x):\n",
    "    \"\"\"\n",
    "    Normalize a list of sample image data in the range of 0 to 1\n",
    "    : x: List of image data.  The image shape is (32, 32, 3)\n",
    "    : return: Numpy array of normalize data\n",
    "    \"\"\"\n",
    "    # TODO: Implement Function\n",
    "    return x/255\n",
    "\n",
    "\n",
    "\"\"\"\n",
    "DON'T MODIFY ANYTHING IN THIS CELL THAT IS BELOW THIS LINE\n",
    "\"\"\"\n",
    "tests.test_normalize(normalize)"
   ]
  },
  {
   "cell_type": "markdown",
   "metadata": {},
   "source": [
    "### One-hot encode\n",
    "Just like the previous code cell, you'll be implementing a function for preprocessing.  This time, you'll implement the `one_hot_encode` function. The input, `x`, are a list of labels.  Implement the function to return the list of labels as One-Hot encoded Numpy array.  The possible values for labels are 0 to 9. The one-hot encoding function should return the same encoding for each value between each call to `one_hot_encode`.  Make sure to save the map of encodings outside the function.\n",
    "\n",
    "**Hint:**\n",
    "\n",
    "Look into LabelBinarizer in the preprocessing module of sklearn."
   ]
  },
  {
   "cell_type": "code",
   "execution_count": 4,
   "metadata": {},
   "outputs": [],
   "source": [
    "from sklearn.preprocessing import OneHotEncoder"
   ]
  },
  {
   "cell_type": "code",
   "execution_count": 5,
   "metadata": {},
   "outputs": [
    {
     "name": "stdout",
     "output_type": "stream",
     "text": [
      "Tests Passed\n"
     ]
    }
   ],
   "source": [
    "def one_hot_encode(x,num=10):\n",
    "    \"\"\"\n",
    "    One hot encode a list of sample labels. Return a one-hot encoded vector for each label.\n",
    "    : x: List of sample Labels\n",
    "    : return: Numpy array of one-hot encoded labels\n",
    "    \"\"\"\n",
    "    # TODO: Implement Function\n",
    "    ohe=OneHotEncoder(n_values=num)\n",
    "    encoded=ohe.fit_transform(np.array(x).reshape(-1,1)).toarray()\n",
    "    return encoded\n",
    "\n",
    "\n",
    "\"\"\"\n",
    "DON'T MODIFY ANYTHING IN THIS CELL THAT IS BELOW THIS LINE\n",
    "\"\"\"\n",
    "tests.test_one_hot_encode(one_hot_encode)"
   ]
  },
  {
   "cell_type": "markdown",
   "metadata": {},
   "source": [
    "### Randomize Data\n",
    "As you saw from exploring the data above, the order of the samples are randomized.  It doesn't hurt to randomize it again, but you don't need to for this dataset."
   ]
  },
  {
   "cell_type": "markdown",
   "metadata": {},
   "source": [
    "## Preprocess all the data and save it\n",
    "Running the code cell below will preprocess all the CIFAR-10 data and save it to file. The code below also uses 10% of the training data for validation."
   ]
  },
  {
   "cell_type": "code",
   "execution_count": 6,
   "metadata": {},
   "outputs": [],
   "source": [
    "\"\"\"\n",
    "DON'T MODIFY ANYTHING IN THIS CELL\n",
    "\"\"\"\n",
    "# Preprocess Training, Validation, and Testing Data\n",
    "helper.preprocess_and_save_data(cifar10_dataset_folder_path, normalize, one_hot_encode)"
   ]
  },
  {
   "cell_type": "markdown",
   "metadata": {},
   "source": [
    "# Check Point\n",
    "This is your first checkpoint.  If you ever decide to come back to this notebook or have to restart the notebook, you can start from here.  The preprocessed data has been saved to disk."
   ]
  },
  {
   "cell_type": "code",
   "execution_count": 7,
   "metadata": {},
   "outputs": [],
   "source": [
    "\"\"\"\n",
    "DON'T MODIFY ANYTHING IN THIS CELL\n",
    "\"\"\"\n",
    "import pickle\n",
    "import problem_unittests as tests\n",
    "import helper\n",
    "\n",
    "# Load the Preprocessed Validation data\n",
    "valid_features, valid_labels = pickle.load(open('preprocess_validation.p', mode='rb'))"
   ]
  },
  {
   "cell_type": "markdown",
   "metadata": {},
   "source": [
    "## Build the network\n",
    "For the neural network, you'll build each layer into a function.  Most of the code you've seen has been outside of functions. To test your code more thoroughly, we require that you put each layer in a function.  This allows us to give you better feedback and test for simple mistakes using our unittests before you submit your project.\n",
    "\n",
    ">**Note:** If you're finding it hard to dedicate enough time for this course each week, we've provided a small shortcut to this part of the project. In the next couple of problems, you'll have the option to use classes from the [TensorFlow Layers](https://www.tensorflow.org/api_docs/python/tf/layers) or [TensorFlow Layers (contrib)](https://www.tensorflow.org/api_guides/python/contrib.layers) packages to build each layer, except the layers you build in the \"Convolutional and Max Pooling Layer\" section.  TF Layers is similar to Keras's and TFLearn's abstraction to layers, so it's easy to pickup.\n",
    "\n",
    ">However, if you would like to get the most out of this course, try to solve all the problems _without_ using anything from the TF Layers packages. You **can** still use classes from other packages that happen to have the same name as ones you find in TF Layers! For example, instead of using the TF Layers version of the `conv2d` class, [tf.layers.conv2d](https://www.tensorflow.org/api_docs/python/tf/layers/conv2d), you would want to use the TF Neural Network version of `conv2d`, [tf.nn.conv2d](https://www.tensorflow.org/api_docs/python/tf/nn/conv2d). \n",
    "\n",
    "Let's begin!\n",
    "\n",
    "### Input\n",
    "The neural network needs to read the image data, one-hot encoded labels, and dropout keep probability. Implement the following functions\n",
    "* Implement `neural_net_image_input`\n",
    " * Return a [TF Placeholder](https://www.tensorflow.org/api_docs/python/tf/placeholder)\n",
    " * Set the shape using `image_shape` with batch size set to `None`.\n",
    " * Name the TensorFlow placeholder \"x\" using the TensorFlow `name` parameter in the [TF Placeholder](https://www.tensorflow.org/api_docs/python/tf/placeholder).\n",
    "* Implement `neural_net_label_input`\n",
    " * Return a [TF Placeholder](https://www.tensorflow.org/api_docs/python/tf/placeholder)\n",
    " * Set the shape using `n_classes` with batch size set to `None`.\n",
    " * Name the TensorFlow placeholder \"y\" using the TensorFlow `name` parameter in the [TF Placeholder](https://www.tensorflow.org/api_docs/python/tf/placeholder).\n",
    "* Implement `neural_net_keep_prob_input`\n",
    " * Return a [TF Placeholder](https://www.tensorflow.org/api_docs/python/tf/placeholder) for dropout keep probability.\n",
    " * Name the TensorFlow placeholder \"keep_prob\" using the TensorFlow `name` parameter in the [TF Placeholder](https://www.tensorflow.org/api_docs/python/tf/placeholder).\n",
    "\n",
    "These names will be used at the end of the project to load your saved model.\n",
    "\n",
    "Note: `None` for shapes in TensorFlow allow for a dynamic size."
   ]
  },
  {
   "cell_type": "code",
   "execution_count": 8,
   "metadata": {},
   "outputs": [
    {
     "name": "stdout",
     "output_type": "stream",
     "text": [
      "Image Input Tests Passed.\n",
      "Label Input Tests Passed.\n",
      "Keep Prob Tests Passed.\n"
     ]
    }
   ],
   "source": [
    "import tensorflow as tf\n",
    "\n",
    "def neural_net_image_input(image_shape):\n",
    "    \"\"\"\n",
    "    Return a Tensor for a batch of image input\n",
    "    : image_shape: Shape of the images\n",
    "    : return: Tensor for image input.\n",
    "    \"\"\"\n",
    "    # TODO: Implement Function\n",
    "    return tf.placeholder(tf.float32,shape=(None,)+image_shape,name='x')\n",
    "\n",
    "\n",
    "def neural_net_label_input(n_classes):\n",
    "    \"\"\"\n",
    "    Return a Tensor for a batch of label input\n",
    "    : n_classes: Number of classes\n",
    "    : return: Tensor for label input.\n",
    "    \"\"\"\n",
    "    # TODO: Implement Function\n",
    "    return tf.placeholder(tf.float32,shape=(None,n_classes),name='y')\n",
    "\n",
    "\n",
    "def neural_net_keep_prob_input():\n",
    "    \"\"\"\n",
    "    Return a Tensor for keep probability\n",
    "    : return: Tensor for keep probability.\n",
    "    \"\"\"\n",
    "    # TODO: Implement Function\n",
    "    return tf.placeholder(tf.float32,shape=None,name='keep_prob')\n",
    "\n",
    "\n",
    "\"\"\"\n",
    "DON'T MODIFY ANYTHING IN THIS CELL THAT IS BELOW THIS LINE\n",
    "\"\"\"\n",
    "tf.reset_default_graph()\n",
    "tests.test_nn_image_inputs(neural_net_image_input)\n",
    "tests.test_nn_label_inputs(neural_net_label_input)\n",
    "tests.test_nn_keep_prob_inputs(neural_net_keep_prob_input)"
   ]
  },
  {
   "cell_type": "markdown",
   "metadata": {},
   "source": [
    "### Convolution and Max Pooling Layer\n",
    "Convolution layers have a lot of success with images. For this code cell, you should implement the function `conv2d_maxpool` to apply convolution then max pooling:\n",
    "* Create the weight and bias using `conv_ksize`, `conv_num_outputs` and the shape of `x_tensor`.\n",
    "* Apply a convolution to `x_tensor` using weight and `conv_strides`.\n",
    " * We recommend you use same padding, but you're welcome to use any padding.\n",
    "* Add bias\n",
    "* Add a nonlinear activation to the convolution.\n",
    "* Apply Max Pooling using `pool_ksize` and `pool_strides`.\n",
    " * We recommend you use same padding, but you're welcome to use any padding.\n",
    "\n",
    "**Note:** You **can't** use [TensorFlow Layers](https://www.tensorflow.org/api_docs/python/tf/layers) or [TensorFlow Layers (contrib)](https://www.tensorflow.org/api_guides/python/contrib.layers) for **this** layer, but you can still use TensorFlow's [Neural Network](https://www.tensorflow.org/api_docs/python/tf/nn) package. You may still use the shortcut option for all the **other** layers.\n",
    "\n",
    "** Hint: **\n",
    "\n",
    "When unpacking values as an argument in Python, look into the [unpacking](https://docs.python.org/3/tutorial/controlflow.html#unpacking-argument-lists) operator. "
   ]
  },
  {
   "cell_type": "code",
   "execution_count": 30,
   "metadata": {},
   "outputs": [
    {
     "name": "stdout",
     "output_type": "stream",
     "text": [
      "Tests Passed\n"
     ]
    }
   ],
   "source": [
    "def conv2d_maxpool(x_tensor, conv_num_outputs, conv_ksize, conv_strides, pool_ksize, pool_strides):\n",
    "    \"\"\"\n",
    "    Apply convolution then max pooling to x_tensor\n",
    "    :param x_tensor: TensorFlow Tensor\n",
    "    :param conv_num_outputs: Number of outputs for the convolutional layer\n",
    "    :param conv_ksize: kernal size 2-D Tuple for the convolutional layer\n",
    "    :param conv_strides: Stride 2-D Tuple for convolution\n",
    "    :param pool_ksize: kernal size 2-D Tuple for pool\n",
    "    :param pool_strides: Stride 2-D Tuple for pool\n",
    "    : return: A tensor that represents convolution and max pooling of x_tensor\n",
    "    \"\"\"\n",
    "    # TODO: Implement Function\n",
    "    weights_shape=list(conv_ksize) + [x_tensor.get_shape().as_list()[3] , conv_num_outputs]\n",
    "    weights=tf.Variable(tf.truncated_normal(weights_shape))\n",
    "    bias=tf.Variable(tf.zeros(conv_num_outputs))\n",
    "    \n",
    "    conv=tf.nn.conv2d(x_tensor,weights,strides=[1,conv_strides[0],conv_strides[1],1],padding='SAME')\n",
    "    conv=tf.nn.bias_add(conv,bias)\n",
    "    conv=tf.nn.relu(conv)\n",
    "    \n",
    "    output=tf.nn.max_pool(conv,ksize=[1,pool_ksize[0],pool_ksize[1],1],strides=[1,pool_strides[0],pool_strides[1],1],\n",
    "                                      padding='SAME')\n",
    "    return output\n",
    "\n",
    "\n",
    "\"\"\"\n",
    "DON'T MODIFY ANYTHING IN THIS CELL THAT IS BELOW THIS LINE\n",
    "\"\"\"\n",
    "tests.test_con_pool(conv2d_maxpool)"
   ]
  },
  {
   "cell_type": "markdown",
   "metadata": {},
   "source": [
    "### Flatten Layer\n",
    "Implement the `flatten` function to change the dimension of `x_tensor` from a 4-D tensor to a 2-D tensor.  The output should be the shape (*Batch Size*, *Flattened Image Size*). Shortcut option: you can use classes from the [TensorFlow Layers](https://www.tensorflow.org/api_docs/python/tf/layers) or [TensorFlow Layers (contrib)](https://www.tensorflow.org/api_guides/python/contrib.layers) packages for this layer. For more of a challenge, only use other TensorFlow packages."
   ]
  },
  {
   "cell_type": "code",
   "execution_count": 10,
   "metadata": {},
   "outputs": [
    {
     "name": "stdout",
     "output_type": "stream",
     "text": [
      "Tests Passed\n"
     ]
    }
   ],
   "source": [
    "def flatten(x_tensor):\n",
    "    \"\"\"\n",
    "    Flatten x_tensor to (Batch Size, Flattened Image Size)\n",
    "    : x_tensor: A tensor of size (Batch Size, ...), where ... are the image dimensions.\n",
    "    : return: A tensor of size (Batch Size, Flattened Image Size).\n",
    "    \"\"\"\n",
    "    # TODO: Implement Function\n",
    "    return tf.contrib.layers.flatten(x_tensor)\n",
    "\n",
    "\n",
    "\"\"\"\n",
    "DON'T MODIFY ANYTHING IN THIS CELL THAT IS BELOW THIS LINE\n",
    "\"\"\"\n",
    "tests.test_flatten(flatten)"
   ]
  },
  {
   "cell_type": "markdown",
   "metadata": {},
   "source": [
    "### Fully-Connected Layer\n",
    "Implement the `fully_conn` function to apply a fully connected layer to `x_tensor` with the shape (*Batch Size*, *num_outputs*). Shortcut option: you can use classes from the [TensorFlow Layers](https://www.tensorflow.org/api_docs/python/tf/layers) or [TensorFlow Layers (contrib)](https://www.tensorflow.org/api_guides/python/contrib.layers) packages for this layer. For more of a challenge, only use other TensorFlow packages."
   ]
  },
  {
   "cell_type": "code",
   "execution_count": 11,
   "metadata": {},
   "outputs": [
    {
     "name": "stdout",
     "output_type": "stream",
     "text": [
      "Tests Passed\n"
     ]
    }
   ],
   "source": [
    "def fully_conn(x_tensor, num_outputs):\n",
    "    \"\"\"\n",
    "    Apply a fully connected layer to x_tensor using weight and bias\n",
    "    : x_tensor: A 2-D tensor where the first dimension is batch size.\n",
    "    : num_outputs: The number of output that the new tensor should be.\n",
    "    : return: A 2-D tensor where the second dimension is num_outputs.\n",
    "    \"\"\"\n",
    "    # TODO: Implement Function\n",
    "    return tf.contrib.layers.fully_connected(x_tensor,num_outputs=num_outputs)\n",
    "\n",
    "\n",
    "\"\"\"\n",
    "DON'T MODIFY ANYTHING IN THIS CELL THAT IS BELOW THIS LINE\n",
    "\"\"\"\n",
    "tests.test_fully_conn(fully_conn)"
   ]
  },
  {
   "cell_type": "markdown",
   "metadata": {},
   "source": [
    "### Output Layer\n",
    "Implement the `output` function to apply a fully connected layer to `x_tensor` with the shape (*Batch Size*, *num_outputs*). Shortcut option: you can use classes from the [TensorFlow Layers](https://www.tensorflow.org/api_docs/python/tf/layers) or [TensorFlow Layers (contrib)](https://www.tensorflow.org/api_guides/python/contrib.layers) packages for this layer. For more of a challenge, only use other TensorFlow packages.\n",
    "\n",
    "**Note:** Activation, softmax, or cross entropy should **not** be applied to this."
   ]
  },
  {
   "cell_type": "code",
   "execution_count": 12,
   "metadata": {},
   "outputs": [
    {
     "name": "stdout",
     "output_type": "stream",
     "text": [
      "Tests Passed\n"
     ]
    }
   ],
   "source": [
    "def output(x_tensor, num_outputs):\n",
    "    \"\"\"\n",
    "    Apply a output layer to x_tensor using weight and bias\n",
    "    : x_tensor: A 2-D tensor where the first dimension is batch size.\n",
    "    : num_outputs: The number of output that the new tensor should be.\n",
    "    : return: A 2-D tensor where the second dimension is num_outputs.\n",
    "    \"\"\"\n",
    "    # TODO: Implement Function\n",
    "    return tf.contrib.layers.fully_connected(x_tensor,num_outputs=num_outputs,activation_fn=None)\n",
    "\n",
    "\n",
    "\"\"\"\n",
    "DON'T MODIFY ANYTHING IN THIS CELL THAT IS BELOW THIS LINE\n",
    "\"\"\"\n",
    "tests.test_output(output)"
   ]
  },
  {
   "cell_type": "markdown",
   "metadata": {},
   "source": [
    "### Create Convolutional Model\n",
    "Implement the function `conv_net` to create a convolutional neural network model. The function takes in a batch of images, `x`, and outputs logits.  Use the layers you created above to create this model:\n",
    "\n",
    "* Apply 1, 2, or 3 Convolution and Max Pool layers\n",
    "* Apply a Flatten Layer\n",
    "* Apply 1, 2, or 3 Fully Connected Layers\n",
    "* Apply an Output Layer\n",
    "* Return the output\n",
    "* Apply [TensorFlow's Dropout](https://www.tensorflow.org/api_docs/python/tf/nn/dropout) to one or more layers in the model using `keep_prob`. "
   ]
  },
  {
   "cell_type": "code",
   "execution_count": 46,
   "metadata": {},
   "outputs": [
    {
     "name": "stdout",
     "output_type": "stream",
     "text": [
      "Neural Network Built!\n"
     ]
    }
   ],
   "source": [
    "def conv_net(x, keep_prob,n=10):\n",
    "    \"\"\"\n",
    "    Create a convolutional neural network model\n",
    "    : x: Placeholder tensor that holds image data.\n",
    "    : keep_prob: Placeholder tensor that hold dropout keep probability.\n",
    "    : return: Tensor that represents logits\n",
    "    \"\"\"\n",
    "    # TODO: Apply 1, 2, or 3 Convolution and Max Pool layers\n",
    "    #    Play around with different number of outputs, kernel size and stride\n",
    "    # Function Definition from Above:\n",
    "    #    conv2d_maxpool(x_tensor, conv_num_outputs, conv_ksize, conv_strides, pool_ksize, pool_strides)\n",
    "    conv=conv2d_maxpool(x,conv_num_outputs=64,\n",
    "                        conv_ksize=[5,5],conv_strides=[1,1],\n",
    "                        pool_ksize=[3,3],pool_strides=[2,2])\n",
    "    \n",
    "    conv=conv2d_maxpool(conv,conv_num_outputs=64,\n",
    "                        conv_ksize=[3,3],conv_strides=[1,1],\n",
    "                        pool_ksize=[3,3],pool_strides=[2,2])\n",
    "    \n",
    "    '''conv=conv2d_maxpool(conv,conv_num_outputs=64,\n",
    "                        conv_ksize=[5,5],conv_strides=[1,1],\n",
    "                        pool_ksize=[3,3],pool_strides=[2,2])\n",
    "    '''\n",
    "    # TODO: Apply a Flatten Layer\n",
    "    # Function Definition from Above:\n",
    "    #   flatten(x_tensor)\n",
    "    flattened=flatten(conv)\n",
    "    \n",
    "\n",
    "    # TODO: Apply 1, 2, or 3 Fully Connected Layers\n",
    "    #    Play around with different number of outputs\n",
    "    # Function Definition from Above:\n",
    "    #   fully_conn(x_tensor, num_outputs)\n",
    "    fully_connected=fully_conn(flattened,380)\n",
    "    fully_connected=fully_conn(fully_connected,190)\n",
    "    #fully_connected=fully_conn(fully_connected,64)\n",
    "\n",
    "    \n",
    "    dropouting=tf.nn.dropout(fully_connected,keep_prob)\n",
    "    # TODO: Apply an Output Layer\n",
    "    #    Set this to the number of classes\n",
    "    # Function Definition from Above:\n",
    "    #   output(x_tensor, num_outputs)\n",
    "    output1=output(dropouting,n)\n",
    "    \n",
    "    \n",
    "    # TODO: return output\n",
    "    return output1\n",
    "\n",
    "\n",
    "\"\"\"\n",
    "DON'T MODIFY ANYTHING IN THIS CELL THAT IS BELOW THIS LINE\n",
    "\"\"\"\n",
    "\n",
    "##############################\n",
    "## Build the Neural Network ##\n",
    "##############################\n",
    "\n",
    "# Remove previous weights, bias, inputs, etc..\n",
    "tf.reset_default_graph()\n",
    "\n",
    "# Inputs\n",
    "x = neural_net_image_input((32, 32, 3))\n",
    "y = neural_net_label_input(10)\n",
    "keep_prob = neural_net_keep_prob_input()\n",
    "\n",
    "# Model\n",
    "logits = conv_net(x, keep_prob)\n",
    "\n",
    "# Name logits Tensor, so that is can be loaded from disk after training\n",
    "logits = tf.identity(logits, name='logits')\n",
    "\n",
    "# Loss and Optimizer\n",
    "cost = tf.reduce_mean(tf.nn.softmax_cross_entropy_with_logits(logits=logits, labels=y))\n",
    "optimizer = tf.train.AdamOptimizer().minimize(cost)\n",
    "\n",
    "# Accuracy\n",
    "correct_pred = tf.equal(tf.argmax(logits, 1), tf.argmax(y, 1))\n",
    "accuracy = tf.reduce_mean(tf.cast(correct_pred, tf.float32), name='accuracy')\n",
    "\n",
    "tests.test_conv_net(conv_net)"
   ]
  },
  {
   "cell_type": "markdown",
   "metadata": {},
   "source": [
    "## Train the Neural Network\n",
    "### Single Optimization\n",
    "Implement the function `train_neural_network` to do a single optimization.  The optimization should use `optimizer` to optimize in `session` with a `feed_dict` of the following:\n",
    "* `x` for image input\n",
    "* `y` for labels\n",
    "* `keep_prob` for keep probability for dropout\n",
    "\n",
    "This function will be called for each batch, so `tf.global_variables_initializer()` has already been called.\n",
    "\n",
    "Note: Nothing needs to be returned. This function is only optimizing the neural network."
   ]
  },
  {
   "cell_type": "code",
   "execution_count": 26,
   "metadata": {},
   "outputs": [
    {
     "name": "stdout",
     "output_type": "stream",
     "text": [
      "Tests Passed\n"
     ]
    }
   ],
   "source": [
    "def train_neural_network(session, optimizer, keep_probability, feature_batch, label_batch):\n",
    "    \"\"\"\n",
    "    Optimize the session on a batch of images and labels\n",
    "    : session: Current TensorFlow session\n",
    "    : optimizer: TensorFlow optimizer function\n",
    "    : keep_probability: keep probability\n",
    "    : feature_batch: Batch of Numpy image data\n",
    "    : label_batch: Batch of Numpy label data\n",
    "    \"\"\"\n",
    "    # TODO: Implement Function\n",
    "    session.run(optimizer,feed_dict={x:feature_batch,y:label_batch,keep_prob:keep_probability})\n",
    "    pass\n",
    "\n",
    "\n",
    "\"\"\"\n",
    "DON'T MODIFY ANYTHING IN THIS CELL THAT IS BELOW THIS LINE\n",
    "\"\"\"\n",
    "tests.test_train_nn(train_neural_network)"
   ]
  },
  {
   "cell_type": "markdown",
   "metadata": {},
   "source": [
    "### Show Stats\n",
    "Implement the function `print_stats` to print loss and validation accuracy.  Use the global variables `valid_features` and `valid_labels` to calculate validation accuracy.  Use a keep probability of `1.0` to calculate the loss and validation accuracy."
   ]
  },
  {
   "cell_type": "code",
   "execution_count": 27,
   "metadata": {},
   "outputs": [],
   "source": [
    "def print_stats(session, feature_batch, label_batch, cost, accuracy):\n",
    "    \"\"\"\n",
    "    Print information about loss and validation accuracy\n",
    "    : session: Current TensorFlow session\n",
    "    : feature_batch: Batch of Numpy image data\n",
    "    : label_batch: Batch of Numpy label data\n",
    "    : cost: TensorFlow cost function\n",
    "    : accuracy: TensorFlow accuracy function\n",
    "    \"\"\"\n",
    "    loss=session.run(cost,feed_dict={x:feature_batch,y:label_batch,keep_prob:1.})\n",
    "    \n",
    "    validation_accuracy=session.run(accuracy,feed_dict={x:valid_features,y:valid_labels,keep_prob:1.})\n",
    "    # TODO: Implement Function\n",
    "        \n",
    "    print(\"Loss:{:.5f},  validation_accuracy={:0.5f} \".format(loss,validation_accuracy))\n",
    "    \n",
    "    pass"
   ]
  },
  {
   "cell_type": "markdown",
   "metadata": {},
   "source": [
    "### Hyperparameters\n",
    "Tune the following parameters:\n",
    "* Set `epochs` to the number of iterations until the network stops learning or start overfitting\n",
    "* Set `batch_size` to the highest number that your machine has memory for.  Most people set them to common sizes of memory:\n",
    " * 64\n",
    " * 128\n",
    " * 256\n",
    " * ...\n",
    "* Set `keep_probability` to the probability of keeping a node using dropout"
   ]
  },
  {
   "cell_type": "code",
   "execution_count": 44,
   "metadata": {},
   "outputs": [],
   "source": [
    "# TODO: Tune Parameters\n",
    "epochs = 35\n",
    "batch_size = 256\n",
    "keep_probability = 0.8"
   ]
  },
  {
   "cell_type": "markdown",
   "metadata": {},
   "source": [
    "### Train on a Single CIFAR-10 Batch\n",
    "Instead of training the neural network on all the CIFAR-10 batches of data, let's use a single batch. This should save time while you iterate on the model to get a better accuracy.  Once the final validation accuracy is 50% or greater, run the model on all the data in the next section."
   ]
  },
  {
   "cell_type": "code",
   "execution_count": 47,
   "metadata": {},
   "outputs": [
    {
     "name": "stdout",
     "output_type": "stream",
     "text": [
      "Checking the Training on a Single Batch...\n",
      "Epoch  1, CIFAR-10 Batch 1:  Loss:3.61579,  validation_accuracy=0.22340 \n",
      "Epoch  2, CIFAR-10 Batch 1:  Loss:2.03681,  validation_accuracy=0.23360 \n",
      "Epoch  3, CIFAR-10 Batch 1:  Loss:1.95274,  validation_accuracy=0.27240 \n",
      "Epoch  4, CIFAR-10 Batch 1:  Loss:1.83782,  validation_accuracy=0.30340 \n",
      "Epoch  5, CIFAR-10 Batch 1:  Loss:1.72272,  validation_accuracy=0.32600 \n",
      "Epoch  6, CIFAR-10 Batch 1:  Loss:1.67305,  validation_accuracy=0.34200 \n",
      "Epoch  7, CIFAR-10 Batch 1:  Loss:1.49824,  validation_accuracy=0.36120 \n",
      "Epoch  8, CIFAR-10 Batch 1:  Loss:1.50857,  validation_accuracy=0.36840 \n",
      "Epoch  9, CIFAR-10 Batch 1:  Loss:1.39333,  validation_accuracy=0.38700 \n",
      "Epoch 10, CIFAR-10 Batch 1:  Loss:1.28999,  validation_accuracy=0.39440 \n",
      "Epoch 11, CIFAR-10 Batch 1:  Loss:1.13297,  validation_accuracy=0.40140 \n",
      "Epoch 12, CIFAR-10 Batch 1:  Loss:1.16753,  validation_accuracy=0.41260 \n",
      "Epoch 13, CIFAR-10 Batch 1:  Loss:1.07811,  validation_accuracy=0.41940 \n",
      "Epoch 14, CIFAR-10 Batch 1:  Loss:0.99464,  validation_accuracy=0.42620 \n",
      "Epoch 15, CIFAR-10 Batch 1:  Loss:0.91372,  validation_accuracy=0.44640 \n",
      "Epoch 16, CIFAR-10 Batch 1:  Loss:0.87044,  validation_accuracy=0.43160 \n",
      "Epoch 17, CIFAR-10 Batch 1:  Loss:0.84288,  validation_accuracy=0.44620 \n",
      "Epoch 18, CIFAR-10 Batch 1:  Loss:0.80867,  validation_accuracy=0.43280 \n",
      "Epoch 19, CIFAR-10 Batch 1:  Loss:0.76386,  validation_accuracy=0.44220 \n",
      "Epoch 20, CIFAR-10 Batch 1:  Loss:0.75975,  validation_accuracy=0.45080 \n",
      "Epoch 21, CIFAR-10 Batch 1:  Loss:0.64110,  validation_accuracy=0.44700 \n",
      "Epoch 22, CIFAR-10 Batch 1:  Loss:0.60808,  validation_accuracy=0.46560 \n",
      "Epoch 23, CIFAR-10 Batch 1:  Loss:0.49245,  validation_accuracy=0.46480 \n",
      "Epoch 24, CIFAR-10 Batch 1:  Loss:0.49757,  validation_accuracy=0.48460 \n",
      "Epoch 25, CIFAR-10 Batch 1:  Loss:0.50337,  validation_accuracy=0.48000 \n",
      "Epoch 26, CIFAR-10 Batch 1:  Loss:0.48504,  validation_accuracy=0.48500 \n",
      "Epoch 27, CIFAR-10 Batch 1:  Loss:0.46401,  validation_accuracy=0.47460 \n",
      "Epoch 28, CIFAR-10 Batch 1:  Loss:0.41531,  validation_accuracy=0.49500 \n",
      "Epoch 29, CIFAR-10 Batch 1:  Loss:0.42974,  validation_accuracy=0.47880 \n",
      "Epoch 30, CIFAR-10 Batch 1:  Loss:0.39753,  validation_accuracy=0.46640 \n",
      "Epoch 31, CIFAR-10 Batch 1:  Loss:0.33035,  validation_accuracy=0.49640 \n",
      "Epoch 32, CIFAR-10 Batch 1:  Loss:0.36357,  validation_accuracy=0.49420 \n",
      "Epoch 33, CIFAR-10 Batch 1:  Loss:0.33056,  validation_accuracy=0.50140 \n",
      "Epoch 34, CIFAR-10 Batch 1:  Loss:0.35232,  validation_accuracy=0.46180 \n",
      "Epoch 35, CIFAR-10 Batch 1:  Loss:0.30730,  validation_accuracy=0.45880 \n"
     ]
    }
   ],
   "source": [
    "\"\"\"\n",
    "DON'T MODIFY ANYTHING IN THIS CELL\n",
    "\"\"\"\n",
    "print('Checking the Training on a Single Batch...')\n",
    "with tf.Session() as sess:\n",
    "    # Initializing the variables\n",
    "    sess.run(tf.global_variables_initializer())\n",
    "    \n",
    "    # Training cycle\n",
    "    for epoch in range(epochs):\n",
    "        batch_i = 1\n",
    "        for batch_features, batch_labels in helper.load_preprocess_training_batch(batch_i, batch_size):\n",
    "            train_neural_network(sess, optimizer, keep_probability, batch_features, batch_labels)\n",
    "        print('Epoch {:>2}, CIFAR-10 Batch {}:  '.format(epoch + 1, batch_i), end='')\n",
    "        print_stats(sess, batch_features, batch_labels, cost, accuracy)"
   ]
  },
  {
   "cell_type": "markdown",
   "metadata": {},
   "source": [
    "### Fully Train the Model\n",
    "Now that you got a good accuracy with a single CIFAR-10 batch, try it with all five batches."
   ]
  },
  {
   "cell_type": "code",
   "execution_count": 48,
   "metadata": {
    "scrolled": false
   },
   "outputs": [
    {
     "name": "stdout",
     "output_type": "stream",
     "text": [
      "Training...\n",
      "Epoch  1, CIFAR-10 Batch 1:  Loss:4.41726,  validation_accuracy=0.23300 \n",
      "Epoch  1, CIFAR-10 Batch 2:  Loss:2.14357,  validation_accuracy=0.16740 \n",
      "Epoch  1, CIFAR-10 Batch 3:  Loss:2.15635,  validation_accuracy=0.19660 \n",
      "Epoch  1, CIFAR-10 Batch 4:  Loss:2.17578,  validation_accuracy=0.22360 \n",
      "Epoch  1, CIFAR-10 Batch 5:  Loss:2.17994,  validation_accuracy=0.22440 \n",
      "Epoch  2, CIFAR-10 Batch 1:  Loss:2.00455,  validation_accuracy=0.25320 \n",
      "Epoch  2, CIFAR-10 Batch 2:  Loss:1.93790,  validation_accuracy=0.25540 \n",
      "Epoch  2, CIFAR-10 Batch 3:  Loss:1.77131,  validation_accuracy=0.26820 \n",
      "Epoch  2, CIFAR-10 Batch 4:  Loss:1.84240,  validation_accuracy=0.26300 \n",
      "Epoch  2, CIFAR-10 Batch 5:  Loss:1.97904,  validation_accuracy=0.18860 \n",
      "Epoch  3, CIFAR-10 Batch 1:  Loss:1.81691,  validation_accuracy=0.25140 \n",
      "Epoch  3, CIFAR-10 Batch 2:  Loss:1.70383,  validation_accuracy=0.33520 \n",
      "Epoch  3, CIFAR-10 Batch 3:  Loss:1.43356,  validation_accuracy=0.34760 \n",
      "Epoch  3, CIFAR-10 Batch 4:  Loss:1.49950,  validation_accuracy=0.37160 \n",
      "Epoch  3, CIFAR-10 Batch 5:  Loss:1.69220,  validation_accuracy=0.30380 \n",
      "Epoch  4, CIFAR-10 Batch 1:  Loss:1.63213,  validation_accuracy=0.35980 \n",
      "Epoch  4, CIFAR-10 Batch 2:  Loss:1.65445,  validation_accuracy=0.37600 \n",
      "Epoch  4, CIFAR-10 Batch 3:  Loss:1.50229,  validation_accuracy=0.33420 \n",
      "Epoch  4, CIFAR-10 Batch 4:  Loss:1.59699,  validation_accuracy=0.39480 \n",
      "Epoch  4, CIFAR-10 Batch 5:  Loss:1.61710,  validation_accuracy=0.38100 \n",
      "Epoch  5, CIFAR-10 Batch 1:  Loss:1.55858,  validation_accuracy=0.35280 \n",
      "Epoch  5, CIFAR-10 Batch 2:  Loss:1.51026,  validation_accuracy=0.36800 \n",
      "Epoch  5, CIFAR-10 Batch 3:  Loss:1.17672,  validation_accuracy=0.39360 \n",
      "Epoch  5, CIFAR-10 Batch 4:  Loss:1.38320,  validation_accuracy=0.43580 \n",
      "Epoch  5, CIFAR-10 Batch 5:  Loss:1.44746,  validation_accuracy=0.44660 \n",
      "Epoch  6, CIFAR-10 Batch 1:  Loss:1.40009,  validation_accuracy=0.44600 \n",
      "Epoch  6, CIFAR-10 Batch 2:  Loss:1.39232,  validation_accuracy=0.40360 \n",
      "Epoch  6, CIFAR-10 Batch 3:  Loss:1.03739,  validation_accuracy=0.45460 \n",
      "Epoch  6, CIFAR-10 Batch 4:  Loss:1.27869,  validation_accuracy=0.46300 \n",
      "Epoch  6, CIFAR-10 Batch 5:  Loss:1.30300,  validation_accuracy=0.43520 \n",
      "Epoch  7, CIFAR-10 Batch 1:  Loss:1.24640,  validation_accuracy=0.46120 \n",
      "Epoch  7, CIFAR-10 Batch 2:  Loss:1.22430,  validation_accuracy=0.49020 \n",
      "Epoch  7, CIFAR-10 Batch 3:  Loss:1.06161,  validation_accuracy=0.44740 \n",
      "Epoch  7, CIFAR-10 Batch 4:  Loss:1.13784,  validation_accuracy=0.48680 \n",
      "Epoch  7, CIFAR-10 Batch 5:  Loss:1.18657,  validation_accuracy=0.48020 \n",
      "Epoch  8, CIFAR-10 Batch 1:  Loss:1.23428,  validation_accuracy=0.47900 \n",
      "Epoch  8, CIFAR-10 Batch 2:  Loss:1.20619,  validation_accuracy=0.47880 \n",
      "Epoch  8, CIFAR-10 Batch 3:  Loss:0.88555,  validation_accuracy=0.50420 \n",
      "Epoch  8, CIFAR-10 Batch 4:  Loss:1.06266,  validation_accuracy=0.50000 \n",
      "Epoch  8, CIFAR-10 Batch 5:  Loss:1.02837,  validation_accuracy=0.49620 \n",
      "Epoch  9, CIFAR-10 Batch 1:  Loss:1.18602,  validation_accuracy=0.47480 \n",
      "Epoch  9, CIFAR-10 Batch 2:  Loss:1.19057,  validation_accuracy=0.49500 \n",
      "Epoch  9, CIFAR-10 Batch 3:  Loss:0.79441,  validation_accuracy=0.49900 \n",
      "Epoch  9, CIFAR-10 Batch 4:  Loss:1.07975,  validation_accuracy=0.49840 \n",
      "Epoch  9, CIFAR-10 Batch 5:  Loss:0.94091,  validation_accuracy=0.48960 \n",
      "Epoch 10, CIFAR-10 Batch 1:  Loss:1.11094,  validation_accuracy=0.49680 \n",
      "Epoch 10, CIFAR-10 Batch 2:  Loss:0.99296,  validation_accuracy=0.49100 \n",
      "Epoch 10, CIFAR-10 Batch 3:  Loss:0.82729,  validation_accuracy=0.47280 \n",
      "Epoch 10, CIFAR-10 Batch 4:  Loss:1.01664,  validation_accuracy=0.51720 \n",
      "Epoch 10, CIFAR-10 Batch 5:  Loss:0.98302,  validation_accuracy=0.52080 \n",
      "Epoch 11, CIFAR-10 Batch 1:  Loss:1.01961,  validation_accuracy=0.50420 \n",
      "Epoch 11, CIFAR-10 Batch 2:  Loss:0.94449,  validation_accuracy=0.50280 \n",
      "Epoch 11, CIFAR-10 Batch 3:  Loss:0.82351,  validation_accuracy=0.50360 \n",
      "Epoch 11, CIFAR-10 Batch 4:  Loss:1.01010,  validation_accuracy=0.52100 \n",
      "Epoch 11, CIFAR-10 Batch 5:  Loss:0.97577,  validation_accuracy=0.52380 \n",
      "Epoch 12, CIFAR-10 Batch 1:  Loss:0.96999,  validation_accuracy=0.51260 \n",
      "Epoch 12, CIFAR-10 Batch 2:  Loss:0.92544,  validation_accuracy=0.52180 \n",
      "Epoch 12, CIFAR-10 Batch 3:  Loss:0.63821,  validation_accuracy=0.51660 \n",
      "Epoch 12, CIFAR-10 Batch 4:  Loss:1.01191,  validation_accuracy=0.53520 \n",
      "Epoch 12, CIFAR-10 Batch 5:  Loss:0.93485,  validation_accuracy=0.53960 \n",
      "Epoch 13, CIFAR-10 Batch 1:  Loss:0.94127,  validation_accuracy=0.51600 \n",
      "Epoch 13, CIFAR-10 Batch 2:  Loss:0.85131,  validation_accuracy=0.53580 \n",
      "Epoch 13, CIFAR-10 Batch 3:  Loss:0.65621,  validation_accuracy=0.50760 \n",
      "Epoch 13, CIFAR-10 Batch 4:  Loss:1.00607,  validation_accuracy=0.52500 \n",
      "Epoch 13, CIFAR-10 Batch 5:  Loss:0.89777,  validation_accuracy=0.54120 \n",
      "Epoch 14, CIFAR-10 Batch 1:  Loss:0.88660,  validation_accuracy=0.52300 \n",
      "Epoch 14, CIFAR-10 Batch 2:  Loss:0.74636,  validation_accuracy=0.55180 \n",
      "Epoch 14, CIFAR-10 Batch 3:  Loss:0.59231,  validation_accuracy=0.55360 \n",
      "Epoch 14, CIFAR-10 Batch 4:  Loss:0.81135,  validation_accuracy=0.55040 \n",
      "Epoch 14, CIFAR-10 Batch 5:  Loss:0.75564,  validation_accuracy=0.55520 \n",
      "Epoch 15, CIFAR-10 Batch 1:  Loss:0.79409,  validation_accuracy=0.54540 \n",
      "Epoch 15, CIFAR-10 Batch 2:  Loss:0.68578,  validation_accuracy=0.55980 \n",
      "Epoch 15, CIFAR-10 Batch 3:  Loss:0.51567,  validation_accuracy=0.55220 \n",
      "Epoch 15, CIFAR-10 Batch 4:  Loss:0.75039,  validation_accuracy=0.54060 \n",
      "Epoch 15, CIFAR-10 Batch 5:  Loss:0.73687,  validation_accuracy=0.55660 \n",
      "Epoch 16, CIFAR-10 Batch 1:  Loss:0.77143,  validation_accuracy=0.56080 \n",
      "Epoch 16, CIFAR-10 Batch 2:  Loss:0.59492,  validation_accuracy=0.55700 \n",
      "Epoch 16, CIFAR-10 Batch 3:  Loss:0.49360,  validation_accuracy=0.55260 \n",
      "Epoch 16, CIFAR-10 Batch 4:  Loss:0.79030,  validation_accuracy=0.54940 \n",
      "Epoch 16, CIFAR-10 Batch 5:  Loss:0.80453,  validation_accuracy=0.55060 \n",
      "Epoch 17, CIFAR-10 Batch 1:  Loss:0.73158,  validation_accuracy=0.56580 \n",
      "Epoch 17, CIFAR-10 Batch 2:  Loss:0.54942,  validation_accuracy=0.56480 \n",
      "Epoch 17, CIFAR-10 Batch 3:  Loss:0.48168,  validation_accuracy=0.56100 \n",
      "Epoch 17, CIFAR-10 Batch 4:  Loss:0.62861,  validation_accuracy=0.56480 \n",
      "Epoch 17, CIFAR-10 Batch 5:  Loss:0.70627,  validation_accuracy=0.57680 \n",
      "Epoch 18, CIFAR-10 Batch 1:  Loss:0.69997,  validation_accuracy=0.56020 \n",
      "Epoch 18, CIFAR-10 Batch 2:  Loss:0.49582,  validation_accuracy=0.57740 \n",
      "Epoch 18, CIFAR-10 Batch 3:  Loss:0.42727,  validation_accuracy=0.56980 \n",
      "Epoch 18, CIFAR-10 Batch 4:  Loss:0.65757,  validation_accuracy=0.55720 \n",
      "Epoch 18, CIFAR-10 Batch 5:  Loss:0.63217,  validation_accuracy=0.58420 \n",
      "Epoch 19, CIFAR-10 Batch 1:  Loss:0.65615,  validation_accuracy=0.57000 \n",
      "Epoch 19, CIFAR-10 Batch 2:  Loss:0.45585,  validation_accuracy=0.58240 \n",
      "Epoch 19, CIFAR-10 Batch 3:  Loss:0.39193,  validation_accuracy=0.58260 \n",
      "Epoch 19, CIFAR-10 Batch 4:  Loss:0.55993,  validation_accuracy=0.56240 \n",
      "Epoch 19, CIFAR-10 Batch 5:  Loss:0.66022,  validation_accuracy=0.57560 \n",
      "Epoch 20, CIFAR-10 Batch 1:  Loss:0.64077,  validation_accuracy=0.57400 \n",
      "Epoch 20, CIFAR-10 Batch 2:  Loss:0.54610,  validation_accuracy=0.56160 \n",
      "Epoch 20, CIFAR-10 Batch 3:  Loss:0.46145,  validation_accuracy=0.58420 \n",
      "Epoch 20, CIFAR-10 Batch 4:  Loss:0.47650,  validation_accuracy=0.58200 \n",
      "Epoch 20, CIFAR-10 Batch 5:  Loss:0.62016,  validation_accuracy=0.56500 \n",
      "Epoch 21, CIFAR-10 Batch 1:  Loss:0.59592,  validation_accuracy=0.57420 \n",
      "Epoch 21, CIFAR-10 Batch 2:  Loss:0.42589,  validation_accuracy=0.59400 \n",
      "Epoch 21, CIFAR-10 Batch 3:  Loss:0.36087,  validation_accuracy=0.58980 \n",
      "Epoch 21, CIFAR-10 Batch 4:  Loss:0.41009,  validation_accuracy=0.58300 \n",
      "Epoch 21, CIFAR-10 Batch 5:  Loss:0.52941,  validation_accuracy=0.58240 \n",
      "Epoch 22, CIFAR-10 Batch 1:  Loss:0.59355,  validation_accuracy=0.59780 \n",
      "Epoch 22, CIFAR-10 Batch 2:  Loss:0.41199,  validation_accuracy=0.57920 \n",
      "Epoch 22, CIFAR-10 Batch 3:  Loss:0.34674,  validation_accuracy=0.59260 \n",
      "Epoch 22, CIFAR-10 Batch 4:  Loss:0.36728,  validation_accuracy=0.60060 \n",
      "Epoch 22, CIFAR-10 Batch 5:  Loss:0.47938,  validation_accuracy=0.60180 \n",
      "Epoch 23, CIFAR-10 Batch 1:  Loss:0.59822,  validation_accuracy=0.57400 \n",
      "Epoch 23, CIFAR-10 Batch 2:  Loss:0.34196,  validation_accuracy=0.60640 \n"
     ]
    },
    {
     "name": "stdout",
     "output_type": "stream",
     "text": [
      "Epoch 23, CIFAR-10 Batch 3:  Loss:0.33395,  validation_accuracy=0.59900 \n",
      "Epoch 23, CIFAR-10 Batch 4:  Loss:0.33848,  validation_accuracy=0.59740 \n",
      "Epoch 23, CIFAR-10 Batch 5:  Loss:0.44441,  validation_accuracy=0.61420 \n",
      "Epoch 24, CIFAR-10 Batch 1:  Loss:0.52243,  validation_accuracy=0.58800 \n",
      "Epoch 24, CIFAR-10 Batch 2:  Loss:0.29186,  validation_accuracy=0.61980 \n",
      "Epoch 24, CIFAR-10 Batch 3:  Loss:0.30031,  validation_accuracy=0.60080 \n",
      "Epoch 24, CIFAR-10 Batch 4:  Loss:0.31559,  validation_accuracy=0.60340 \n",
      "Epoch 24, CIFAR-10 Batch 5:  Loss:0.41503,  validation_accuracy=0.61420 \n",
      "Epoch 25, CIFAR-10 Batch 1:  Loss:0.43744,  validation_accuracy=0.59240 \n",
      "Epoch 25, CIFAR-10 Batch 2:  Loss:0.24506,  validation_accuracy=0.62140 \n",
      "Epoch 25, CIFAR-10 Batch 3:  Loss:0.29213,  validation_accuracy=0.60620 \n",
      "Epoch 25, CIFAR-10 Batch 4:  Loss:0.27852,  validation_accuracy=0.60740 \n",
      "Epoch 25, CIFAR-10 Batch 5:  Loss:0.41575,  validation_accuracy=0.61020 \n",
      "Epoch 26, CIFAR-10 Batch 1:  Loss:0.45105,  validation_accuracy=0.60280 \n",
      "Epoch 26, CIFAR-10 Batch 2:  Loss:0.24276,  validation_accuracy=0.61740 \n",
      "Epoch 26, CIFAR-10 Batch 3:  Loss:0.29162,  validation_accuracy=0.59680 \n",
      "Epoch 26, CIFAR-10 Batch 4:  Loss:0.27847,  validation_accuracy=0.61780 \n",
      "Epoch 26, CIFAR-10 Batch 5:  Loss:0.37192,  validation_accuracy=0.61540 \n",
      "Epoch 27, CIFAR-10 Batch 1:  Loss:0.47760,  validation_accuracy=0.60160 \n",
      "Epoch 27, CIFAR-10 Batch 2:  Loss:0.22163,  validation_accuracy=0.60880 \n",
      "Epoch 27, CIFAR-10 Batch 3:  Loss:0.22523,  validation_accuracy=0.61220 \n",
      "Epoch 27, CIFAR-10 Batch 4:  Loss:0.28325,  validation_accuracy=0.62360 \n",
      "Epoch 27, CIFAR-10 Batch 5:  Loss:0.37534,  validation_accuracy=0.62440 \n",
      "Epoch 28, CIFAR-10 Batch 1:  Loss:0.41236,  validation_accuracy=0.59040 \n",
      "Epoch 28, CIFAR-10 Batch 2:  Loss:0.19931,  validation_accuracy=0.62040 \n",
      "Epoch 28, CIFAR-10 Batch 3:  Loss:0.21995,  validation_accuracy=0.60640 \n",
      "Epoch 28, CIFAR-10 Batch 4:  Loss:0.25701,  validation_accuracy=0.60820 \n",
      "Epoch 28, CIFAR-10 Batch 5:  Loss:0.35354,  validation_accuracy=0.61540 \n",
      "Epoch 29, CIFAR-10 Batch 1:  Loss:0.44696,  validation_accuracy=0.59340 \n",
      "Epoch 29, CIFAR-10 Batch 2:  Loss:0.19110,  validation_accuracy=0.62440 \n",
      "Epoch 29, CIFAR-10 Batch 3:  Loss:0.23115,  validation_accuracy=0.59240 \n",
      "Epoch 29, CIFAR-10 Batch 4:  Loss:0.28282,  validation_accuracy=0.59980 \n",
      "Epoch 29, CIFAR-10 Batch 5:  Loss:0.27117,  validation_accuracy=0.63080 \n",
      "Epoch 30, CIFAR-10 Batch 1:  Loss:0.38987,  validation_accuracy=0.61060 \n",
      "Epoch 30, CIFAR-10 Batch 2:  Loss:0.16928,  validation_accuracy=0.63220 \n",
      "Epoch 30, CIFAR-10 Batch 3:  Loss:0.20818,  validation_accuracy=0.61360 \n",
      "Epoch 30, CIFAR-10 Batch 4:  Loss:0.21865,  validation_accuracy=0.61080 \n",
      "Epoch 30, CIFAR-10 Batch 5:  Loss:0.25604,  validation_accuracy=0.62580 \n",
      "Epoch 31, CIFAR-10 Batch 1:  Loss:0.38039,  validation_accuracy=0.60440 \n",
      "Epoch 31, CIFAR-10 Batch 2:  Loss:0.18298,  validation_accuracy=0.62480 \n",
      "Epoch 31, CIFAR-10 Batch 3:  Loss:0.20685,  validation_accuracy=0.59660 \n",
      "Epoch 31, CIFAR-10 Batch 4:  Loss:0.21427,  validation_accuracy=0.60420 \n",
      "Epoch 31, CIFAR-10 Batch 5:  Loss:0.24915,  validation_accuracy=0.61460 \n",
      "Epoch 32, CIFAR-10 Batch 1:  Loss:0.36247,  validation_accuracy=0.60500 \n",
      "Epoch 32, CIFAR-10 Batch 2:  Loss:0.21295,  validation_accuracy=0.61380 \n",
      "Epoch 32, CIFAR-10 Batch 3:  Loss:0.19661,  validation_accuracy=0.58400 \n",
      "Epoch 32, CIFAR-10 Batch 4:  Loss:0.21501,  validation_accuracy=0.60960 \n",
      "Epoch 32, CIFAR-10 Batch 5:  Loss:0.23354,  validation_accuracy=0.61760 \n",
      "Epoch 33, CIFAR-10 Batch 1:  Loss:0.33424,  validation_accuracy=0.60800 \n",
      "Epoch 33, CIFAR-10 Batch 2:  Loss:0.16859,  validation_accuracy=0.62980 \n",
      "Epoch 33, CIFAR-10 Batch 3:  Loss:0.18076,  validation_accuracy=0.60200 \n",
      "Epoch 33, CIFAR-10 Batch 4:  Loss:0.19936,  validation_accuracy=0.63080 \n",
      "Epoch 33, CIFAR-10 Batch 5:  Loss:0.22633,  validation_accuracy=0.62040 \n",
      "Epoch 34, CIFAR-10 Batch 1:  Loss:0.32520,  validation_accuracy=0.61940 \n",
      "Epoch 34, CIFAR-10 Batch 2:  Loss:0.13575,  validation_accuracy=0.61420 \n",
      "Epoch 34, CIFAR-10 Batch 3:  Loss:0.14368,  validation_accuracy=0.62140 \n",
      "Epoch 34, CIFAR-10 Batch 4:  Loss:0.18078,  validation_accuracy=0.62880 \n",
      "Epoch 34, CIFAR-10 Batch 5:  Loss:0.17782,  validation_accuracy=0.62660 \n",
      "Epoch 35, CIFAR-10 Batch 1:  Loss:0.31385,  validation_accuracy=0.63640 \n",
      "Epoch 35, CIFAR-10 Batch 2:  Loss:0.10327,  validation_accuracy=0.60340 \n",
      "Epoch 35, CIFAR-10 Batch 3:  Loss:0.12045,  validation_accuracy=0.62500 \n",
      "Epoch 35, CIFAR-10 Batch 4:  Loss:0.19414,  validation_accuracy=0.62380 \n",
      "Epoch 35, CIFAR-10 Batch 5:  Loss:0.16053,  validation_accuracy=0.62440 \n"
     ]
    }
   ],
   "source": [
    "\"\"\"\n",
    "DON'T MODIFY ANYTHING IN THIS CELL\n",
    "\"\"\"\n",
    "save_model_path = './image_classification'\n",
    "\n",
    "print('Training...')\n",
    "with tf.Session() as sess:\n",
    "    # Initializing the variables\n",
    "    sess.run(tf.global_variables_initializer())\n",
    "    \n",
    "    # Training cycle\n",
    "    for epoch in range(epochs):\n",
    "        # Loop over all batches\n",
    "        n_batches = 5\n",
    "        for batch_i in range(1, n_batches + 1):\n",
    "            for batch_features, batch_labels in helper.load_preprocess_training_batch(batch_i, batch_size):\n",
    "                train_neural_network(sess, optimizer, keep_probability, batch_features, batch_labels)\n",
    "            print('Epoch {:>2}, CIFAR-10 Batch {}:  '.format(epoch + 1, batch_i), end='')\n",
    "            print_stats(sess, batch_features, batch_labels, cost, accuracy)\n",
    "            \n",
    "    # Save Model\n",
    "    saver = tf.train.Saver()\n",
    "    save_path = saver.save(sess, save_model_path)"
   ]
  },
  {
   "cell_type": "markdown",
   "metadata": {},
   "source": [
    "# Checkpoint\n",
    "The model has been saved to disk.\n",
    "## Test Model\n",
    "Test your model against the test dataset.  This will be your final accuracy. You should have an accuracy greater than 50%. If you don't, keep tweaking the model architecture and parameters."
   ]
  },
  {
   "cell_type": "code",
   "execution_count": 49,
   "metadata": {},
   "outputs": [
    {
     "name": "stdout",
     "output_type": "stream",
     "text": [
      "INFO:tensorflow:Restoring parameters from ./image_classification\n",
      "Testing Accuracy: 0.6259765625\n",
      "\n"
     ]
    },
    {
     "data": {
      "image/png": "[encoded data removed]",
      "text/plain": [
       "<matplotlib.figure.Figure at 0x22481fff0f0>"
      ]
     },
     "metadata": {
      "image/png": {
       "height": 319,
       "width": 355
      }
     },
     "output_type": "display_data"
    }
   ],
   "source": [
    "\"\"\"\n",
    "DON'T MODIFY ANYTHING IN THIS CELL\n",
    "\"\"\"\n",
    "%matplotlib inline\n",
    "%config InlineBackend.figure_format = 'retina'\n",
    "\n",
    "import tensorflow as tf\n",
    "import pickle\n",
    "import helper\n",
    "import random\n",
    "\n",
    "# Set batch size if not already set\n",
    "try:\n",
    "    if batch_size:\n",
    "        pass\n",
    "except NameError:\n",
    "    batch_size = 64\n",
    "\n",
    "save_model_path = './image_classification'\n",
    "n_samples = 4\n",
    "top_n_predictions = 3\n",
    "\n",
    "def test_model():\n",
    "    \"\"\"\n",
    "    Test the saved model against the test dataset\n",
    "    \"\"\"\n",
    "\n",
    "    test_features, test_labels = pickle.load(open('preprocess_training.p', mode='rb'))\n",
    "    loaded_graph = tf.Graph()\n",
    "\n",
    "    with tf.Session(graph=loaded_graph) as sess:\n",
    "        # Load model\n",
    "        loader = tf.train.import_meta_graph(save_model_path + '.meta')\n",
    "        loader.restore(sess, save_model_path)\n",
    "\n",
    "        # Get Tensors from loaded model\n",
    "        loaded_x = loaded_graph.get_tensor_by_name('x:0')\n",
    "        loaded_y = loaded_graph.get_tensor_by_name('y:0')\n",
    "        loaded_keep_prob = loaded_graph.get_tensor_by_name('keep_prob:0')\n",
    "        loaded_logits = loaded_graph.get_tensor_by_name('logits:0')\n",
    "        loaded_acc = loaded_graph.get_tensor_by_name('accuracy:0')\n",
    "        \n",
    "        # Get accuracy in batches for memory limitations\n",
    "        test_batch_acc_total = 0\n",
    "        test_batch_count = 0\n",
    "        \n",
    "        for train_feature_batch, train_label_batch in helper.batch_features_labels(test_features, test_labels, batch_size):\n",
    "            test_batch_acc_total += sess.run(\n",
    "                loaded_acc,\n",
    "                feed_dict={loaded_x: train_feature_batch, loaded_y: train_label_batch, loaded_keep_prob: 1.0})\n",
    "            test_batch_count += 1\n",
    "\n",
    "        print('Testing Accuracy: {}\\n'.format(test_batch_acc_total/test_batch_count))\n",
    "\n",
    "        # Print Random Samples\n",
    "        random_test_features, random_test_labels = tuple(zip(*random.sample(list(zip(test_features, test_labels)), n_samples)))\n",
    "        random_test_predictions = sess.run(\n",
    "            tf.nn.top_k(tf.nn.softmax(loaded_logits), top_n_predictions),\n",
    "            feed_dict={loaded_x: random_test_features, loaded_y: random_test_labels, loaded_keep_prob: 1.0})\n",
    "        helper.display_image_predictions(random_test_features, random_test_labels, random_test_predictions)\n",
    "\n",
    "\n",
    "test_model()"
   ]
  },
  {
   "cell_type": "markdown",
   "metadata": {},
   "source": [
    "## Why 50-80% Accuracy?\n",
    "You might be wondering why you can't get an accuracy any higher. First things first, 50% isn't bad for a simple CNN.  Pure guessing would get you 10% accuracy. That's because there are many more techniques that can be applied to your model and we recemmond that once you are done with this project, you explore!\n",
    "\n",
    "## Submitting This Project\n",
    "When submitting this project, make sure to run all the cells before saving the notebook.  Save the notebook file as \"image_classification.ipynb\" and save it as a HTML file under \"File\" -> \"Download as\".  Include the \"helper.py\" and \"problem_unittests.py\" files in your submission."
   ]
  }
 ],
 "metadata": {
  "kernelspec": {
   "display_name": "Python 3",
   "language": "python",
   "name": "python3"
  },
  "language_info": {
   "codemirror_mode": {
    "name": "ipython",
    "version": 3
   },
   "file_extension": ".py",
   "mimetype": "text/x-python",
   "name": "python",
   "nbconvert_exporter": "python",
   "pygments_lexer": "ipython3",
   "version": "3.6.3"
  }
 },
 "nbformat": 4,
 "nbformat_minor": 1
}
